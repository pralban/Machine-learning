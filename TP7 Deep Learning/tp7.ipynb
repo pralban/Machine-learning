{
  "cells": [
    {
      "cell_type": "markdown",
      "metadata": {
        "id": "9KFU-_ZrsZFR"
      },
      "source": [
        "# Lab Deep Learning / Multi-Layer Perceptron for binary-classification / in pytorch\n",
        "\n",
        "**Author: geoffroy.peeters@telecom-paris.fr**\n",
        "\n",
        "**Version**: 2023/01/10\n",
        "\n",
        "For any remark or suggestion, please feel free to contact me."
      ]
    },
    {
      "cell_type": "markdown",
      "metadata": {
        "id": "4-0LCM7sseew"
      },
      "source": [
        "## Objective:\n",
        "\n",
        "The objective of this lab is to develop a two hidden layers MLP to perform **binary classification**.\n",
        "\n",
        "We will use a MLP with 2 hidden layer with $n_{h1}=20$ and $n_{h2}=10$ hidden units and ```relu``` activation functions.\n",
        "You will perform 10.000 iterations (epochs) of SGD to find the parameters.\n",
        "\n",
        "Note: in this lab, we do not separate the dataset into a train, validation and test part."
      ]
    },
    {
      "cell_type": "markdown",
      "metadata": {
        "id": "rhcaeREyshiA"
      },
      "source": [
        "### Data normalization\n",
        "\n",
        "You should normalize the data to zero mean and unit standard deviation"
      ]
    },
    {
      "cell_type": "markdown",
      "metadata": {
        "id": "W889TJY0sjrw"
      },
      "source": [
        "### Model\n",
        "\n",
        "There are various ways to write NN model in pytorch.\n",
        "\n",
        "In this lab, you will write three different implementations:\n",
        "- **Model A**: manually defining the parameters (W1,b1,W2,b2,W3,b3), writing the forward equations, writting the loss equation, calling the .backward() and manually updating the weights using W1.grad. You will write the loop to perform 1000 epochs.\n",
        "- **Model B**: using the Sequential class of pytorch\n",
        "- **Model C**: a custom torch.nn.Module class for this.\n",
        "\n",
        "For Model B and C, you will use the ready made loss and optimization from the nn and optim packages. You can use the same code to optimize the parameters of Model B and C."
      ]
    },
    {
      "cell_type": "markdown",
      "metadata": {
        "id": "_Qc8jENGsmR5"
      },
      "source": [
        "### Loss\n",
        "\n",
        "Since we are dealing with a binary classification problem, we will use a Binary Cross Entropy loss (use ```torch.nn.BCELoss``` for Model B and C)."
      ]
    },
    {
      "cell_type": "markdown",
      "metadata": {
        "id": "PbkGTDaRso25"
      },
      "source": [
        "### Parameters update/ Optimization\n",
        "\n",
        "For updating the parameters, we will use as optimizer a simple SGD algorithm (use ```torch.optim.SGD``` for Model B and C) with a learning rate of 0.1.\n",
        "\n",
        "Don't forget that an optimizer is applied to a set of parameters (```my_model.parameters()``` gives the parameters of the network for Model B and C).\n",
        "Once the gradients have been computed (after the backpropagation has been performed), you can perform one step of optimization (using ```optimizer.step()``` for Model B and C)."
      ]
    },
    {
      "cell_type": "markdown",
      "metadata": {
        "id": "6qzL47Ntss3p"
      },
      "source": [
        "### Backward propagation\n",
        "\n",
        "Backpropagation is automatically performed in pytorch using the ```autograd``` package.\n",
        "First, reset the gradients of all parameters (using ```optimizer.zero_grad()``` for Model B and C), then perform the backpropagation ```loss.backward()```."
      ]
    },
    {
      "cell_type": "markdown",
      "metadata": {
        "id": "k4fnzJJDo60Y"
      },
      "source": [
        "### Your task:\n",
        "\n",
        "You need to add the missing parts in the code (parts between ```# --- START CODE HERE``` and ```# --- END CODE HERE```)\n",
        "\n",
        "### Documentations:\n",
        "\n",
        "- Introduction to pytorch\n",
        "\n",
        "    - https://perso.telecom-paristech.fr/gpeeters/video/pytorch.mp4\n",
        "    - https://perso.telecom-paristech.fr/gpeeters/doc/pytorch/#1\n",
        "\n",
        "- Specific pytorch packages\n",
        "\n",
        "    - NN: https://pytorch.org/docs/stable/nn.html\n",
        "    - Autograd: https://pytorch.org/docs/stable/autograd.html\n",
        "    - Optim: https://pytorch.org/docs/stable/optim.html\n"
      ]
    },
    {
      "cell_type": "markdown",
      "metadata": {
        "id": "tuvU8y2Lo60Z"
      },
      "source": [
        "## Load the python packages"
      ]
    },
    {
      "cell_type": "code",
      "execution_count": null,
      "metadata": {
        "id": "I1VTuwVio60a"
      },
      "outputs": [],
      "source": [
        "import torch\n",
        "import torch.nn as nn\n",
        "import torch.nn.functional as F\n",
        "import torch.optim as optim\n",
        "from torch.autograd import Variable\n",
        "\n",
        "import numpy as np\n",
        "import matplotlib.pyplot as plt\n",
        "\n",
        "student = True"
      ]
    },
    {
      "cell_type": "code",
      "execution_count": null,
      "metadata": {
        "colab": {
          "base_uri": "https://localhost:8080/"
        },
        "id": "Zof__thjo60d",
        "outputId": "b31c95b9-e081-4458-82ee-59e1bcb3e7a4"
      },
      "outputs": [
        {
          "name": "stdout",
          "output_type": "stream",
          "text": [
            "2.1.0+cu121\n"
          ]
        }
      ],
      "source": [
        "print(torch.__version__)"
      ]
    },
    {
      "cell_type": "markdown",
      "metadata": {
        "id": "Bsb-phrJo60g"
      },
      "source": [
        "## Dataset\n",
        "\n",
        "We take the usual circle dataset from sklearn."
      ]
    },
    {
      "cell_type": "code",
      "execution_count": null,
      "metadata": {
        "id": "Otam7ukPo60g"
      },
      "outputs": [],
      "source": [
        "from sklearn import datasets\n",
        "X_np, y_np = datasets.make_circles(n_samples=1000, noise=0.2, factor=0.5)"
      ]
    },
    {
      "cell_type": "markdown",
      "metadata": {
        "id": "-5idAV4Co60i"
      },
      "source": [
        "We convert the ```numpy tensors``` to ```torch tensors```.\n",
        "The difference being that the latters allows to do automatic gradient differentiation (back-propagation)."
      ]
    },
    {
      "cell_type": "code",
      "execution_count": null,
      "metadata": {
        "id": "rPxnzVSDo60j"
      },
      "outputs": [],
      "source": [
        "X = torch.from_numpy(X_np).float()\n",
        "y = torch.from_numpy(y_np).float()\n",
        "y = y.view(len(y), 1)"
      ]
    },
    {
      "cell_type": "code",
      "execution_count": null,
      "metadata": {
        "colab": {
          "base_uri": "https://localhost:8080/"
        },
        "id": "YHgd8JYPo60l",
        "outputId": "7a3d38f8-8c56-47ce-f239-1e9cdec0a0ea"
      },
      "outputs": [
        {
          "name": "stdout",
          "output_type": "stream",
          "text": [
            "torch.Size([1000, 2])\n",
            "torch.Size([1000, 1])\n",
            "tensor([-0.0014, -0.0101])\n",
            "tensor([0.5941, 0.5932])\n"
          ]
        }
      ],
      "source": [
        "print(X.size())\n",
        "print(y.size())\n",
        "print(X.mean(dim=0))\n",
        "print(X.std(dim=0))"
      ]
    },
    {
      "cell_type": "markdown",
      "metadata": {
        "id": "Unp-3kjjo60n"
      },
      "source": [
        "## Normalization"
      ]
    },
    {
      "cell_type": "code",
      "execution_count": null,
      "metadata": {
        "colab": {
          "base_uri": "https://localhost:8080/"
        },
        "id": "6rIwFaauo60n",
        "outputId": "0b0f2b34-0e66-40ac-fa9b-bf4ab6febff5"
      },
      "outputs": [
        {
          "name": "stdout",
          "output_type": "stream",
          "text": [
            "tensor([-6.6757e-09,  0.0000e+00])\n",
            "tensor([1., 1.])\n"
          ]
        }
      ],
      "source": [
        "X -= X.mean(dim=0)\n",
        "X /= X.std(dim=0)\n",
        "print(X.mean(dim=0))\n",
        "print(X.std(dim=0))"
      ]
    },
    {
      "cell_type": "markdown",
      "metadata": {
        "id": "Rc3VgVWOo60p"
      },
      "source": [
        "## Definition of the hyper-parameters"
      ]
    },
    {
      "cell_type": "code",
      "execution_count": null,
      "metadata": {
        "id": "OrBQMqCJo60r"
      },
      "outputs": [],
      "source": [
        "n_in = X.shape[1] # nombre de colonnes de X\n",
        "n_h1 = 20 # On veut une première couche avec 20 neurones\n",
        "n_h2 = 10 # On veut une deuxième couche avec 10 neurones\n",
        "n_out = 1 # sortie\n",
        "\n",
        "nb_epoch = 10000\n",
        "alpha = 0.1"
      ]
    },
    {
      "cell_type": "markdown",
      "metadata": {
        "id": "CIzjntgZo60t"
      },
      "source": [
        "## Model 1 (writing the network equations)\n",
        "\n",
        "\n"
      ]
    },
    {
      "cell_type": "markdown",
      "metadata": {
        "id": "4pllj-HFth04"
      },
      "source": [
        "### Parameter initialization\n",
        "\n",
        "**Using torch.Tensors**.\n",
        "You will define the variables and write the equations of the network yourself (as you would do in numpy).\n",
        "However you will use ```torch.Tensors``` instead of ```numpy.Array```.\n",
        "\n",
        "***Why ?*** because torch tensors will allows you to automatically get the gradient. You will use ```loss.backward()``` to launch the backpropagation from ```loss```. Then, for all tensors you've created and for which you declared ```requires_grad=True```, you will get the gradient of ```loss```with respect to this variable in the field ```.grad```.\n",
        "\n",
        "Example: ```W1 = torch.Tensor(..., requires_grad=True)``` ... ```loss.backward``` will have the gradient $\\frac{d Loss}{d W1}$in ```W1.grad```.\n",
        "\n",
        "**Random initialization**. Don't forget that the weight $W_1, W_2, \\cdots$ matrices **should be initialized randomly with small values**; while the bias vectors $b_1, b_2, \\cdots$can be initialized to zero."
      ]
    },
    {
      "cell_type": "code",
      "execution_count": null,
      "metadata": {
        "id": "fGEMW1P1tllj"
      },
      "outputs": [],
      "source": [
        "# --- We first initialize the variables of the network (W1, b1, ...)\n",
        "if student:\n",
        "    # --- START CODE HERE (01)\n",
        "  W1 = torch.randn(n_in, n_h1) * 0.01\n",
        "  W1.requires_grad = True\n",
        "  b1 = torch.zeros(n_h1, requires_grad=True)\n",
        "\n",
        "  W2 = torch.randn(n_h1, n_h2) * 0.01\n",
        "  W2.requires_grad = True\n",
        "  b2 = torch.zeros(n_h2, requires_grad=True)\n",
        "\n",
        "  W3 = torch.randn(n_h2, n_out) * 0.01\n",
        "  W3.requires_grad = True\n",
        "  b3 = torch.zeros(n_out, requires_grad=True)\n",
        "    # --- END CODE HERE"
      ]
    },
    {
      "cell_type": "markdown",
      "metadata": {
        "id": "GU472VdktqoP"
      },
      "source": [
        "### Define the model\n",
        "\n",
        "We write a function to perform the forward pass (using pytorch operators, not numpy operators) taking X as input and returing hat_y as output."
      ]
    },
    {
      "cell_type": "code",
      "execution_count": null,
      "metadata": {
        "id": "1BWc4OoZts_l"
      },
      "outputs": [],
      "source": [
        "def model(X):\n",
        "    if student:\n",
        "        # --- START CODE HERE (02)\n",
        "        A0 = X\n",
        "        Z1 = torch.mm(A0, W1) + b1\n",
        "        A1 = torch.relu(Z1)\n",
        "        Z2 = torch.mm(A1, W2) + b2\n",
        "        A2 = torch.relu(Z2)\n",
        "        Z3 = torch.mm(A2, W3) + b3\n",
        "        A3 = torch.sigmoid(Z3)\n",
        "        hat_y = A3\n",
        "        # --- END CODE HERE\n",
        "    return hat_y"
      ]
    },
    {
      "cell_type": "markdown",
      "metadata": {
        "id": "-t--05ydty4g"
      },
      "source": [
        "### Main training loop\n",
        "\n",
        "We iterate over epochs (we do not perform split into mini-batch here).\n",
        "For each iteration, we\n",
        "- a) perform the forward pass,\n",
        "- b) compute the loss/cost,\n",
        "- c) compute the backward pass to get the gradients of the cost w.r.t. the parameters W1, b1, ...\n",
        "- d) perform the update of the parameters W1, b1, ...\n",
        "\n",
        "***Important: pytorch restriction***\n",
        "When you update the parameters (W1, b1, ...) but subtracting a small part of the gradient, you should that ``inplace`` (W1 -= ??? and not W1 = W1 - ???). Otherwise pytorch will overide W1 by its value (it will eras its .grad filed).\n"
      ]
    },
    {
      "cell_type": "code",
      "execution_count": null,
      "metadata": {
        "colab": {
          "base_uri": "https://localhost:8080/"
        },
        "id": "HB65rqW4o60u",
        "outputId": "e0d1b18b-e64a-4814-c711-e45a27b1a797"
      },
      "outputs": [
        {
          "name": "stdout",
          "output_type": "stream",
          "text": [
            "epoch 0, loss 0.6931474804878235\n",
            "epoch 500, loss 0.6931400299072266\n",
            "epoch 1000, loss 0.6931338310241699\n",
            "epoch 1500, loss 0.6931206583976746\n",
            "epoch 2000, loss 0.6930865049362183\n",
            "epoch 2500, loss 0.6929685473442078\n",
            "epoch 3000, loss 0.6922440528869629\n",
            "epoch 3500, loss 0.6700957417488098\n",
            "epoch 4000, loss 0.30206385254859924\n",
            "epoch 4500, loss 0.29630178213119507\n",
            "epoch 5000, loss 0.29602065682411194\n",
            "epoch 5500, loss 0.29587337374687195\n",
            "epoch 6000, loss 0.29573753476142883\n",
            "epoch 6500, loss 0.295606791973114\n",
            "epoch 7000, loss 0.29555031657218933\n",
            "epoch 7500, loss 0.2955024540424347\n",
            "epoch 8000, loss 0.2954622805118561\n",
            "epoch 8500, loss 0.29527541995048523\n",
            "epoch 9000, loss 0.29521819949150085\n",
            "epoch 9500, loss 0.29517677426338196\n"
          ]
        }
      ],
      "source": [
        "for num_epoch in range(0, nb_epoch):\n",
        "\n",
        "    # --- a) Forward pass: X (n_in, m), hat_y (n_out, m)\n",
        "    hat_y = model(X)\n",
        "\n",
        "    # -- We clip hat_y in order to avoid log(0) in the loss\n",
        "    eps = 1e-10\n",
        "    hat_y = torch.clamp(hat_y, eps, 1-eps)\n",
        "\n",
        "    # --- b) Computing the loss/cost\n",
        "    if student:\n",
        "        # --- START CODE HERE (03)\n",
        "        loss = - (y * torch.log(hat_y) + (1 - y) * torch.log(1 - hat_y)).mean()\n",
        "        cost = loss\n",
        "        # --- END CODE HERE\n",
        "\n",
        "    if num_epoch % 500 == 0:\n",
        "        print('epoch {}, loss {}'.format(num_epoch, cost))\n",
        "\n",
        "    # --- c) Backward pass\n",
        "    cost.backward()\n",
        "\n",
        "    # --- \"with torch.no_grad()\" temporarily set all the requires_grad flag to false\n",
        "    with torch.no_grad():\n",
        "        # --- d) perform the update of the parameters W1, b1, ...\n",
        "        if student:\n",
        "            # --- the gradients dLoss/dW1 is stored in W1.grad, dLoss/db1 is stored in b1.grad, ...\n",
        "            # --- START CODE HERE (04)\n",
        "          W1 -= alpha * W1.grad\n",
        "          b1 -= alpha * b1.grad\n",
        "          W2 -= alpha * W2.grad\n",
        "          b2 -= alpha * b2.grad\n",
        "          W3 -= alpha * W3.grad\n",
        "          b3 -= alpha * b3.grad\n",
        "            # --- END CODE HERE\n",
        "\n",
        "    # --- We need to set to zero all gradients (otherwise they are cumulated)\n",
        "    W1.grad.zero_()\n",
        "    b1.grad.zero_()\n",
        "    W2.grad.zero_()\n",
        "    b2.grad.zero_()\n",
        "    W3.grad.zero_()\n",
        "    b3.grad.zero_()"
      ]
    },
    {
      "cell_type": "markdown",
      "metadata": {
        "id": "lxgA4DXVo60w"
      },
      "source": [
        "## Model 2 (using nn.sequential)\n",
        "\n",
        "Here, you will use the package ```torch.nn``` which comes with a predefined set of layers. The syntax is close to the one of ```keras```(```Sequential```), but differs in the fact that layers are splitted into the matrix multiplication followed by a non-linear activations (```keras```merge both using the ```Dense```layers).\n",
        "\n",
        "The model created will have all its parameters accessible as a dictionary and can be accessed using ```model.parameters()```. It is therefore a convenient way to write simple sequential networks."
      ]
    },
    {
      "cell_type": "code",
      "execution_count": null,
      "metadata": {
        "id": "elGQpQzjo60x"
      },
      "outputs": [],
      "source": [
        "import torch.nn as nn\n",
        "\n",
        "if student:\n",
        "    # --- START CODE HERE (05)\n",
        "    my_model = nn.Sequential(\n",
        "        nn.Linear(n_in, n_h1),  # First linear layer: input to first hidden layer\n",
        "        nn.ReLU(),              # Activation function for first hidden layer\n",
        "        nn.Linear(n_h1, n_h2),  # Second linear layer: first hidden to second hidden layer\n",
        "        nn.ReLU(),              # Activation function for second hidden layer\n",
        "        nn.Linear(n_h2, n_out), # Third linear layer: second hidden to output layer\n",
        "        nn.Sigmoid()            # Activation function for output layer\n",
        "    )\n",
        "    # --- END CODE HERE\n"
      ]
    },
    {
      "cell_type": "markdown",
      "metadata": {
        "id": "ts4aVeIPo601"
      },
      "source": [
        "### Criterion and Optimization\n",
        "\n",
        "The code of Model 1 is self-contained, i.e. it already contains all necessary instruction to perform forward, loss, backward and parameter updates.\n",
        "\n",
        "When using ```nn.sequential``` (model 2) or a class definition of the network (model 3), we still need to define\n",
        "- what we will minimize (the loss to be minimized, i.e. Binary-Cross-Entropy). We can of course write the equation of it by hand but pytorch comes with a very large number of pre-build loss functions (within ```torch.nn```)\n",
        "- how we will minimize the loss, i.e. what parameter update algorithms we will use (SGD, momentum). We can of course write the equation of it by hand but pytorch comes with a very large number of pre-build loss functions (within ```torch.nn```)"
      ]
    },
    {
      "cell_type": "code",
      "execution_count": null,
      "metadata": {
        "id": "xs63V-Wgo602"
      },
      "outputs": [],
      "source": [
        "import torch.optim as optim\n",
        "\n",
        "if student:\n",
        "    # --- START CODE HERE (08)\n",
        "    criterion = nn.BCELoss()\n",
        "    optimizer = optim.SGD(my_model.parameters(), lr=alpha)\n",
        "    # --- END CODE HERE"
      ]
    },
    {
      "cell_type": "markdown",
      "metadata": {
        "id": "89ysZn6rw17u"
      },
      "source": [
        "### Main training loop\n",
        "\n",
        "Having defined the network, the citerion to be minimized and the optimizer, we then perform a loop over epochs (iterations); at each step we\n",
        "- compute the forward pass by passing the data to the model: ```haty = model(x)```\n",
        "- compute the the loss (the criterion)\n",
        "- putting at zero the gradients of all the parameters of the network (this is important since, by default, pytorch accumulate the gradients over time)\n",
        "- computing the backpropagation (using as before ```.backward()```)\n",
        "- performing one step of optimization (using ```.step()```)"
      ]
    },
    {
      "cell_type": "code",
      "execution_count": null,
      "metadata": {
        "colab": {
          "base_uri": "https://localhost:8080/",
          "height": 812
        },
        "id": "JROT567kw17u",
        "outputId": "a1829952-7518-4183-97e1-ddc3f9445b5b"
      },
      "outputs": [
        {
          "name": "stdout",
          "output_type": "stream",
          "text": [
            "epoch 0, loss 0.6917867064476013\n",
            "epoch 500, loss 0.30371442437171936\n",
            "epoch 1000, loss 0.2976052761077881\n",
            "epoch 1500, loss 0.29532313346862793\n",
            "epoch 2000, loss 0.29473695158958435\n",
            "epoch 2500, loss 0.2945306897163391\n",
            "epoch 3000, loss 0.29441240429878235\n",
            "epoch 3500, loss 0.294330358505249\n",
            "epoch 4000, loss 0.29423752427101135\n",
            "epoch 4500, loss 0.2941735088825226\n",
            "epoch 5000, loss 0.29411137104034424\n",
            "epoch 5500, loss 0.29406407475471497\n",
            "epoch 6000, loss 0.29401639103889465\n",
            "epoch 6500, loss 0.2939565181732178\n",
            "epoch 7000, loss 0.2938811182975769\n",
            "epoch 7500, loss 0.29370978474617004\n",
            "epoch 8000, loss 0.2936536371707916\n",
            "epoch 8500, loss 0.29359862208366394\n",
            "epoch 9000, loss 0.2935430705547333\n",
            "epoch 9500, loss 0.29348576068878174\n"
          ]
        },
        {
          "data": {
            "image/png": "[encoded data removed]",
            "text/plain": [
              "<Figure size 640x480 with 1 Axes>"
            ]
          },
          "metadata": {},
          "output_type": "display_data"
        }
      ],
      "source": [
        "loss_l = []\n",
        "for num_epoch in range(nb_epoch):\n",
        "    if student:\n",
        "        # --- START CODE HERE (09)\n",
        "        hat_y = my_model(X)  # Forward pass: Compute predicted y by passing x to the model\n",
        "        loss = criterion(hat_y, y)  # Compute loss\n",
        "\n",
        "        # Zero gradients, perform a backward pass, and update the weights.\n",
        "        optimizer.zero_grad()  # re-init the gradients (otherwise they are cumulated)\n",
        "        loss.backward()        # perform back-propagation\n",
        "        optimizer.step()       # update the weights\n",
        "        # --- END CODE HERE\n",
        "\n",
        "    loss_l.append(loss.item())\n",
        "\n",
        "    if num_epoch % 500 == 0:\n",
        "        print('epoch {}, loss {}'.format(num_epoch, loss.item()))\n",
        "\n",
        "# Plot the loss over epochs\n",
        "plt.plot(loss_l)\n",
        "plt.xlabel('Epoch')\n",
        "plt.ylabel('Loss')\n",
        "plt.title('Loss vs. Epochs')\n",
        "plt.show()\n"
      ]
    },
    {
      "cell_type": "markdown",
      "metadata": {
        "id": "4twpnbEAo60z"
      },
      "source": [
        "## Model 3 (using a class definition)\n",
        "\n",
        "Here, you will write the network using the recommended pytroch way; i.e. by defining a class.\n",
        "This class inherit from the main class ```torch.nn.Module```.\n",
        "You only need to write the ```__init__``` method and the ```forward``` method.\n",
        "\n",
        "In object programming, the ```__init__``` method defines the attributes of your class. Since the attributes of your  network are the parameters to be trained (weights and biases), you should declare in the ```__init``` all the layers that involve parameters to be trained (mostly the ```Linear```layers which perform the matrix multiplication).\n",
        "\n",
        "The ```forward``` method contains the code of the forward pass itself. It can of course call attributes defined in the ```__init___``` method. It is the method used when calling ```model(x)```.\n",
        "\n",
        "As before, the model created will have all its parameters accessible as a dictionary and can be accessed using ```model.parameters()```.\n",
        "\n",
        "Classes are convenient way to write more complex network than what you can do with ```nn.sequential```. Note that you can actually include a ```nn.sequential``` in your class."
      ]
    },
    {
      "cell_type": "code",
      "execution_count": null,
      "metadata": {
        "colab": {
          "base_uri": "https://localhost:8080/"
        },
        "id": "ZNsNkq9Do60z",
        "outputId": "276b6f3b-49da-412a-f13a-1ebb11a1710c"
      },
      "outputs": [
        {
          "name": "stdout",
          "output_type": "stream",
          "text": [
            "Parameter containing:\n",
            "tensor([[ 0.1752, -0.6125],\n",
            "        [ 0.4387,  0.1319],\n",
            "        [-0.0539,  0.1039],\n",
            "        [ 0.5371,  0.6366],\n",
            "        [-0.5810, -0.6063],\n",
            "        [-0.2910, -0.6458],\n",
            "        [-0.0660, -0.3893],\n",
            "        [-0.4337, -0.4709],\n",
            "        [-0.6146,  0.0240],\n",
            "        [ 0.0952, -0.3568],\n",
            "        [-0.5532,  0.5832],\n",
            "        [ 0.4669, -0.6392],\n",
            "        [-0.3881,  0.0014],\n",
            "        [ 0.1002, -0.3046],\n",
            "        [ 0.3999, -0.2806],\n",
            "        [ 0.3004, -0.3718],\n",
            "        [ 0.1838, -0.2244],\n",
            "        [-0.0340,  0.3042],\n",
            "        [ 0.3458, -0.2908],\n",
            "        [ 0.3252,  0.2026]], requires_grad=True)\n",
            "Parameter containing:\n",
            "tensor([ 0.5977, -0.5189,  0.4541,  0.5877, -0.0966, -0.6392, -0.5329,  0.0256,\n",
            "        -0.2773, -0.6702,  0.5880,  0.6141, -0.6194, -0.0546,  0.6906,  0.4712,\n",
            "         0.0206,  0.1832, -0.3525, -0.4692], requires_grad=True)\n",
            "Parameter containing:\n",
            "tensor([[-0.1722, -0.0494, -0.1661,  0.0831,  0.0095,  0.0340,  0.1790, -0.0927,\n",
            "          0.1626, -0.1277, -0.1333,  0.0451, -0.0061, -0.1254,  0.1207,  0.1044,\n",
            "          0.1724, -0.0663,  0.1659,  0.1211],\n",
            "        [ 0.1240, -0.0251, -0.2229, -0.0635,  0.0098, -0.0576,  0.0387,  0.1949,\n",
            "         -0.1171,  0.0423,  0.1350,  0.0571,  0.0761, -0.2032, -0.1163,  0.0173,\n",
            "         -0.1682,  0.0048,  0.0104, -0.0106],\n",
            "        [-0.1745,  0.0103,  0.2042,  0.0337,  0.0831, -0.1615,  0.0806,  0.0691,\n",
            "          0.1489,  0.0182,  0.0547,  0.1515,  0.1862,  0.1549, -0.1092, -0.0196,\n",
            "         -0.0039, -0.1418, -0.1030,  0.1148],\n",
            "        [ 0.1297,  0.0208, -0.2177,  0.1845, -0.1323,  0.2047,  0.1471, -0.1323,\n",
            "         -0.0260,  0.1620,  0.1436, -0.1359,  0.0207, -0.0364,  0.1142, -0.1817,\n",
            "          0.0191, -0.0713, -0.1143,  0.1171],\n",
            "        [ 0.1449,  0.0276,  0.1478, -0.0553,  0.0193, -0.1775,  0.0816, -0.1117,\n",
            "         -0.1398, -0.0653, -0.0820,  0.1687,  0.0741,  0.1644,  0.0667, -0.1638,\n",
            "         -0.1727,  0.0086,  0.2026,  0.1189],\n",
            "        [-0.1378,  0.1555, -0.1296, -0.1542, -0.1260, -0.1595,  0.0264, -0.0215,\n",
            "         -0.0994,  0.1132, -0.1082, -0.0627, -0.0101, -0.0844,  0.1237, -0.0116,\n",
            "          0.0124,  0.2023,  0.0074,  0.0956],\n",
            "        [-0.1152,  0.0197,  0.1845,  0.2222, -0.0654, -0.0576,  0.1771,  0.0962,\n",
            "          0.0027,  0.1460,  0.2146,  0.1682,  0.1002, -0.0425, -0.1704, -0.2128,\n",
            "          0.1964, -0.1314,  0.0621,  0.1199],\n",
            "        [-0.0995, -0.0813,  0.0081, -0.1363,  0.0764, -0.0404, -0.0875,  0.1815,\n",
            "         -0.1452, -0.0483, -0.1422, -0.1354, -0.0207, -0.1141, -0.1351,  0.1561,\n",
            "         -0.1486,  0.1227, -0.0315,  0.1262],\n",
            "        [-0.1007, -0.2000,  0.1778,  0.0732, -0.1435, -0.1538, -0.2076,  0.2166,\n",
            "         -0.0596, -0.0861, -0.0983, -0.1143, -0.0435, -0.0875, -0.0304,  0.0220,\n",
            "         -0.0919, -0.0064, -0.0283, -0.0559],\n",
            "        [ 0.1013, -0.1496,  0.1800, -0.1194,  0.0186, -0.0991,  0.1259,  0.1688,\n",
            "          0.0795,  0.1590, -0.2036,  0.0008,  0.2126,  0.2198,  0.1241, -0.0070,\n",
            "          0.1517,  0.1932, -0.0536, -0.1138]], requires_grad=True)\n",
            "Parameter containing:\n",
            "tensor([ 0.2210, -0.1603,  0.1626, -0.1536,  0.2132, -0.0140,  0.0155,  0.2163,\n",
            "        -0.1666,  0.1306], requires_grad=True)\n",
            "Parameter containing:\n",
            "tensor([[ 0.2886, -0.0100, -0.2315,  0.1537,  0.0833, -0.0244,  0.2780, -0.3073,\n",
            "         -0.1279, -0.1420]], requires_grad=True)\n",
            "Parameter containing:\n",
            "tensor([-0.0771], requires_grad=True)\n"
          ]
        }
      ],
      "source": [
        "class Net(torch.nn.Module):\n",
        "    def __init__(self, n_in, n_h1, n_h2, n_out):\n",
        "        super(Net, self).__init__()\n",
        "\n",
        "        if student:\n",
        "            # --- START CODE HERE (06)\n",
        "            self.fc1 = torch.nn.Linear(n_in,n_h1) # hidden layer 1\n",
        "            self.fc2 = torch.nn.Linear(n_h1,n_h2)  # hidden layer 2\n",
        "            self.fc3 = torch.nn.Linear(n_h2,n_out)  # output layer\n",
        "            # --- END CODE HERE\n",
        "\n",
        "    def forward(self, X):\n",
        "\n",
        "        if student:\n",
        "            # --- START CODE HERE (07)\n",
        "            A0 = X\n",
        "            A1 = torch.nn.ReLu()(self.fc1(X))   # activation function for hidden layer 1\n",
        "            A2 = torch.nn.ReLu()(self.fc2(A1))   # activation function for hidden layer 2\n",
        "            A3 = torch.nn.ReLu()(self.fc3(A2))   # activation function for output layer\n",
        "            # --- END CODE HERE\n",
        "\n",
        "        return A3\n",
        "\n",
        "# --- START CODE HERE\n",
        "my_model = Net(n_in, n_h1, n_h2, n_out)\n",
        "for params in my_model.parameters():\n",
        "  print(params)\n",
        "\n",
        "# --- END CODE HERE"
      ]
    },
    {
      "cell_type": "markdown",
      "metadata": {
        "id": "VfOoKPMtwfLI"
      },
      "source": [
        "### Criterion and Optimization (same as for model 2 -> copy and paste your code)"
      ]
    },
    {
      "cell_type": "code",
      "execution_count": null,
      "metadata": {
        "id": "e-DC96kOwfLJ"
      },
      "outputs": [],
      "source": [
        "if student:\n",
        "    # --- START CODE HERE (08)\n",
        "    criterion = ... #MSE,BCE...\n",
        "    optimizer = ... #Descente, momentum...\n",
        "    # --- END CODE HERE\n"
      ]
    },
    {
      "cell_type": "markdown",
      "metadata": {
        "id": "XamuBM_ho604"
      },
      "source": [
        "### Main training loop (same as for model 2 -> copy and paste your code)\n"
      ]
    },
    {
      "cell_type": "code",
      "execution_count": null,
      "metadata": {
        "colab": {
          "base_uri": "https://localhost:8080/",
          "height": 622
        },
        "id": "rKfrD8V3o605",
        "outputId": "9c7ebe71-b831-4c77-afc0-91ce60a905be"
      },
      "outputs": [
        {
          "name": "stdout",
          "output_type": "stream",
          "text": [
            "epoch 0, loss 0.7203766703605652\n",
            "epoch 500, loss 0.24470025300979614\n",
            "epoch 1000, loss 0.23746107518672943\n",
            "epoch 1500, loss 0.23541653156280518\n",
            "epoch 2000, loss 0.23459357023239136\n",
            "epoch 2500, loss 0.23401391506195068\n",
            "epoch 3000, loss 0.2335825264453888\n",
            "epoch 3500, loss 0.23313717544078827\n",
            "epoch 4000, loss 0.23294144868850708\n",
            "epoch 4500, loss 0.23270487785339355\n",
            "epoch 5000, loss 0.2325720191001892\n",
            "epoch 5500, loss 0.23245927691459656\n",
            "epoch 6000, loss 0.23235449194908142\n",
            "epoch 6500, loss 0.23225145041942596\n",
            "epoch 7000, loss 0.23215316236019135\n",
            "epoch 7500, loss 0.2320682555437088\n",
            "epoch 8000, loss 0.231990784406662\n",
            "epoch 8500, loss 0.23191499710083008\n",
            "epoch 9000, loss 0.23183810710906982\n",
            "epoch 9500, loss 0.2317635864019394\n"
          ]
        },
        {
          "data": {
            "image/png": "[encoded data removed]",
            "text/plain": [
              "<Figure size 432x288 with 1 Axes>"
            ]
          },
          "metadata": {
            "needs_background": "light"
          },
          "output_type": "display_data"
        }
      ],
      "source": [
        "loss_l = []\n",
        "for num_epoch in range(nb_epoch):\n",
        "\n",
        "    if student:\n",
        "        # --- START CODE HERE (09)\n",
        "        hat_y = ... # Forward pass: Compute predicted y by passing  x to the model\n",
        "        loss = ... # Compute loss\n",
        "        # Zero gradients, perform a backward pass, and update the weights.\n",
        "        ... # re-init the gradients (otherwise they are cumulated)\n",
        "        ... # perform back-propagation\n",
        "        ... # update the weights\n",
        "        # --- END CODE HERE\n",
        "\n",
        "    loss_l.append(loss.item())\n",
        "\n",
        "    if num_epoch % 500 == 0:\n",
        "        print('epoch {}, loss {}'.format(num_epoch, loss.item()))\n",
        "\n",
        "# ----------------\n",
        "plt.plot(loss_l);"
      ]
    },
    {
      "cell_type": "markdown",
      "metadata": {
        "id": "SeadOclLjGbn"
      },
      "source": [
        "# Evaluation\n",
        "\n",
        "To evaluate the work, you should rate the code for\n",
        "- 1) Model 1: Initialization of W1, b1, ... (01)\n",
        "- 2) Model 1: Forward-pass (02)\n",
        "- 3) Model 1: Loss and Cost computation  (03)\n",
        "- 4) Model 1: Manual update of the parameters (04)\n",
        "- 5) Model 2: using nn.sequential (05)\n",
        "- 6) Model 3: using class definition: __init__ method (06)\n",
        "- 7) Model 3: using class definition: forward method (07)\n",
        "- 8) Model 2 and 3: Loss (criterion) and parameter update algorithms (optimizer) (08)\n",
        "- 9) Model 2 and 3: code inside the loop (09)"
      ]
    }
  ],
  "metadata": {
    "colab": {
      "provenance": []
    },
    "kernelspec": {
      "display_name": "Python 3",
      "language": "python",
      "name": "python3"
    },
    "language_info": {
      "codemirror_mode": {
        "name": "ipython",
        "version": 3
      },
      "file_extension": ".py",
      "mimetype": "text/x-python",
      "name": "python",
      "nbconvert_exporter": "python",
      "pygments_lexer": "ipython3",
      "version": "3.8.5"
    },
    "toc": {
      "base_numbering": 1,
      "nav_menu": {},
      "number_sections": true,
      "sideBar": true,
      "skip_h1_title": false,
      "title_cell": "Table of Contents",
      "title_sidebar": "Contents",
      "toc_cell": false,
      "toc_position": {},
      "toc_section_display": true,
      "toc_window_display": true
    }
  },
  "nbformat": 4,
  "nbformat_minor": 0
}
