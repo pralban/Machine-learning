{
 "cells": [
  {
   "cell_type": "markdown",
   "id": "c8a7578f",
   "metadata": {},
   "source": [
    "# Machine Learning on Graphs \n",
    "\n",
    "## Tools and library \n",
    "\n",
    "In this lab we start with the discovery of two popular libraries for analysing graphs, namely `scikit-network`, developped here at Télécom Paris,`networkx` and torch geometric. \n",
    "\n",
    "### Scikit-network"
   ]
  },
  {
   "cell_type": "code",
   "execution_count": null,
   "id": "1731755e",
   "metadata": {},
   "outputs": [],
   "source": [
    "# Installation of the library \n",
    "# !pip install scikit-network"
   ]
  },
  {
   "cell_type": "code",
   "execution_count": 4,
   "id": "0fcd2afa",
   "metadata": {},
   "outputs": [],
   "source": [
    "from IPython.display import SVG\n",
    "import numpy as np\n",
    "from matplotlib import pyplot as plt\n",
    "from scipy import sparse"
   ]
  },
  {
   "cell_type": "code",
   "execution_count": 23,
   "id": "f902fafa",
   "metadata": {},
   "outputs": [],
   "source": [
    "import sknetwork\n",
    "from sknetwork.data import load_netset, linear_graph\n",
    "from sknetwork.ranking import PageRank, top_k\n",
    "from sknetwork.visualization import svg_graph\n",
    "from sknetwork.utils import get_degrees"
   ]
  },
  {
   "cell_type": "markdown",
   "id": "298d253d",
   "metadata": {},
   "source": [
    "#### Import data\n",
    "\n",
    "Cora is a directed citation network of 2708 papers with link as citation (citing paper points to cited paper, the order in the edgelist is reversed). Each paper has one label (7 types of label in total). The labels are:\n",
    "\n",
    "    Case Based\n",
    "    Genetic Algorithms\n",
    "    Neural Networks\n",
    "    Probabilistic Methods\n",
    "    Reinforcement Learning\n",
    "    Rule Learning\n",
    "    Theory\n",
    "\n",
    "Also, each papers has a binary feature vector of 1433 elements (word existance indicator) describing the content of the node. The end of each feature vector is the string label of the paper (e.g. Case_Based, or Neural_Networks). All nodes has label and feature vector.\n"
   ]
  },
  {
   "cell_type": "code",
   "execution_count": 7,
   "id": "0869b683",
   "metadata": {},
   "outputs": [
    {
     "name": "stdout",
     "output_type": "stream",
     "text": [
      "Downloading cora from NetSet...\n",
      "Unpacking archive...\n",
      "Parsing files...\n",
      "Done.\n"
     ]
    }
   ],
   "source": [
    "cora = load_netset('cora')"
   ]
  },
  {
   "cell_type": "code",
   "execution_count": 8,
   "id": "5a15c8a5",
   "metadata": {},
   "outputs": [
    {
     "data": {
      "text/plain": [
       "{'labels': array([2, 2, 1, ..., 6, 6, 6]),\n",
       " 'meta': {'name': 'Cora',\n",
       "  'source': 'https://relational.fit.cvut.cz/dataset/CORA',\n",
       "  'description': 'Graph of citations between scientific publications.',\n",
       "  'long_description': 'Graph of citations between 2708 scientific publications on Machine Learning. The citation network consists of 5429 links. Each publication in the dataset is described by a 0/1-valued word vector indicating the absence/presence of the corresponding word from the dictionary. The dictionary consists of 1433 unique words.',\n",
       "  'date': '2008'},\n",
       " 'biadjacency': <2708x1433 sparse matrix of type '<class 'numpy.bool_'>'\n",
       " \twith 49216 stored elements in Compressed Sparse Row format>,\n",
       " 'adjacency': <2708x2708 sparse matrix of type '<class 'numpy.bool_'>'\n",
       " \twith 5429 stored elements in Compressed Sparse Row format>,\n",
       " 'names': array([     35,      40,     114, ..., 1154524, 1154525, 1155073]),\n",
       " 'names_labels': array(['Theory', 'Reinforcement Learning', 'Genetic Algorithms',\n",
       "        'Neural Networks', 'Probabilistic Methods', 'Case Based',\n",
       "        'Rule Learning'], dtype='<U22')}"
      ]
     },
     "execution_count": 8,
     "metadata": {},
     "output_type": "execute_result"
    }
   ],
   "source": [
    "# Let us take a closer look at the cora object\n",
    "cora"
   ]
  },
  {
   "cell_type": "code",
   "execution_count": 9,
   "id": "c3b0cb68",
   "metadata": {},
   "outputs": [],
   "source": [
    "# We can then access to specific elements of the cora object as follow\n",
    "lab = cora.labels\n",
    "adj = cora.adjacency"
   ]
  },
  {
   "cell_type": "markdown",
   "id": "431ffea6",
   "metadata": {},
   "source": [
    "**To do** : where are the node features ? "
   ]
  },
  {
   "cell_type": "code",
   "execution_count": 10,
   "id": "fdc2fce1-95ec-4724-a223-c8878cf5ec21",
   "metadata": {},
   "outputs": [],
   "source": [
    "features = cora.biadjacency"
   ]
  },
  {
   "cell_type": "code",
   "execution_count": 11,
   "id": "10d02a5f",
   "metadata": {},
   "outputs": [
    {
     "data": {
      "text/plain": [
       "<2708x1433 sparse matrix of type '<class 'numpy.bool_'>'\n",
       "\twith 49216 stored elements in Compressed Sparse Row format>"
      ]
     },
     "execution_count": 11,
     "metadata": {},
     "output_type": "execute_result"
    }
   ],
   "source": [
    "features"
   ]
  },
  {
   "cell_type": "code",
   "execution_count": 12,
   "id": "9e5dc342",
   "metadata": {},
   "outputs": [
    {
     "data": {
      "text/plain": [
       "<2708x2708 sparse matrix of type '<class 'numpy.bool_'>'\n",
       "\twith 5429 stored elements in Compressed Sparse Row format>"
      ]
     },
     "execution_count": 12,
     "metadata": {},
     "output_type": "execute_result"
    }
   ],
   "source": [
    "adj"
   ]
  },
  {
   "cell_type": "markdown",
   "id": "d2f6e7a1",
   "metadata": {},
   "source": [
    "Exemple"
   ]
  },
  {
   "cell_type": "code",
   "execution_count": 15,
   "id": "f9294524",
   "metadata": {},
   "outputs": [
    {
     "data": {
      "text/plain": [
       "array([[0, 1, 1],\n",
       "       [2, 0, 1],\n",
       "       [1, 1, 0]])"
      ]
     },
     "execution_count": 15,
     "metadata": {},
     "output_type": "execute_result"
    }
   ],
   "source": [
    "A = np.array([[0, 1, 1], [2, 0, 1], [1, 1, 0]])\n",
    "A"
   ]
  },
  {
   "cell_type": "code",
   "execution_count": 16,
   "id": "b518f33d",
   "metadata": {},
   "outputs": [
    {
     "data": {
      "text/plain": [
       "<3x3 sparse matrix of type '<class 'numpy.int64'>'\n",
       "\twith 6 stored elements in Compressed Sparse Row format>"
      ]
     },
     "execution_count": 16,
     "metadata": {},
     "output_type": "execute_result"
    }
   ],
   "source": [
    "A_csr = sparse.csr_matrix(A)\n",
    "A_csr"
   ]
  },
  {
   "cell_type": "code",
   "execution_count": 17,
   "id": "7eb1d2fc",
   "metadata": {},
   "outputs": [
    {
     "data": {
      "text/plain": [
       "(array([1, 1, 2, 1, 1, 1]),\n",
       " array([1, 2, 0, 2, 0, 1], dtype=int32),\n",
       " array([0, 2, 4, 6], dtype=int32))"
      ]
     },
     "execution_count": 17,
     "metadata": {},
     "output_type": "execute_result"
    }
   ],
   "source": [
    "A_csr.data, A_csr.indices, A_csr.indptr"
   ]
  },
  {
   "cell_type": "markdown",
   "id": "5883c7eb",
   "metadata": {},
   "source": [
    "#### Description of the graph Cora"
   ]
  },
  {
   "cell_type": "code",
   "execution_count": 13,
   "id": "6a21824e",
   "metadata": {},
   "outputs": [
    {
     "name": "stdout",
     "output_type": "stream",
     "text": [
      "Number of nodes:  2708\n",
      "Number of links:  5429\n"
     ]
    }
   ],
   "source": [
    "# Number of nodes and edges \n",
    "print(\"Number of nodes: \", adj.shape[0])\n",
    "print(\"Number of links: \", adj.nnz)"
   ]
  },
  {
   "cell_type": "code",
   "execution_count": 20,
   "id": "f7c2cc08",
   "metadata": {},
   "outputs": [
    {
     "data": {
      "text/plain": [
       "5429"
      ]
     },
     "execution_count": 20,
     "metadata": {},
     "output_type": "execute_result"
    }
   ],
   "source": [
    "# Number of nodes and edges\n",
    "adj.nnz"
   ]
  },
  {
   "cell_type": "code",
   "execution_count": 21,
   "id": "9f9fefff",
   "metadata": {},
   "outputs": [
    {
     "data": {
      "text/plain": [
       "(2708, 2708)"
      ]
     },
     "execution_count": 21,
     "metadata": {},
     "output_type": "execute_result"
    }
   ],
   "source": [
    "# Number of nodes and edges\n",
    "adj.shape"
   ]
  },
  {
   "cell_type": "markdown",
   "id": "10804c0e",
   "metadata": {},
   "source": [
    "**To do** : use the adjacency matrix to get the average out-degree."
   ]
  },
  {
   "cell_type": "code",
   "execution_count": 22,
   "id": "c4fcc5d7-1dee-46c8-961f-5248b719ba0b",
   "metadata": {},
   "outputs": [
    {
     "data": {
      "text/plain": [
       "matrix([[166],\n",
       "        [  3],\n",
       "        [ 42],\n",
       "        ...,\n",
       "        [  0],\n",
       "        [  0],\n",
       "        [  0]])"
      ]
     },
     "execution_count": 22,
     "metadata": {},
     "output_type": "execute_result"
    }
   ],
   "source": [
    "adj.sum(axis=1)"
   ]
  },
  {
   "cell_type": "code",
   "execution_count": 24,
   "id": "0cf1e08f",
   "metadata": {},
   "outputs": [
    {
     "data": {
      "text/plain": [
       "array([3, 1, 0, ..., 3, 3, 3], dtype=int32)"
      ]
     },
     "execution_count": 24,
     "metadata": {},
     "output_type": "execute_result"
    }
   ],
   "source": [
    "get_degrees(adj, transpose=True)"
   ]
  },
  {
   "cell_type": "code",
   "execution_count": 25,
   "id": "3001c914",
   "metadata": {},
   "outputs": [
    {
     "data": {
      "text/plain": [
       "(5429, 5429, 2709)"
      ]
     },
     "execution_count": 25,
     "metadata": {},
     "output_type": "execute_result"
    }
   ],
   "source": [
    "len(adj.data), len(adj.indices), len(adj.indptr)"
   ]
  },
  {
   "cell_type": "markdown",
   "id": "f5c8ee0e-09c2-45ef-933a-db2c3787a67f",
   "metadata": {},
   "source": [
    "#### Visualization of the graph Cora"
   ]
  },
  {
   "cell_type": "code",
   "execution_count": null,
   "id": "442c5e03",
   "metadata": {},
   "outputs": [],
   "source": [
    "# Visualisation of the graph\n",
    "image = svg_graph(adj, labels=lab)\n",
    "SVG(image)"
   ]
  },
  {
   "cell_type": "markdown",
   "id": "e8ded1f0",
   "metadata": {},
   "source": [
    "## Networkx\n",
    "\n",
    "The second library is networkx. Documentation available [here](https://networkx.org/documentation/latest/)."
   ]
  },
  {
   "cell_type": "code",
   "execution_count": null,
   "id": "dd1cc560",
   "metadata": {},
   "outputs": [],
   "source": [
    "# Installation of the library \n",
    "# !pip install networkx"
   ]
  },
  {
   "cell_type": "code",
   "execution_count": null,
   "id": "83dc75c8",
   "metadata": {},
   "outputs": [],
   "source": [
    "import networkx as nx\n",
    "import pandas as pd\n",
    "import os"
   ]
  },
  {
   "cell_type": "code",
   "execution_count": null,
   "id": "23a086d3",
   "metadata": {},
   "outputs": [],
   "source": [
    "# Import the data \n",
    "# Compared to scikit-network, networkx does not allow to directly import some well-known graph\n",
    "\n",
    "data_loc = 'cora/'  # 'cora.cites', 'cora.content'\n",
    "\n",
    "edgelist = pd.read_csv(os.path.join(data_loc, \"cora.cites\"), sep='\\t', header=None, names=[\"source\", \"target\"])\n",
    "edgelist[\"label\"] = \"cites\"\n",
    "    \n",
    "# Let's take a quick look at the data \n",
    "edgelist.sample(frac=1).head(5)"
   ]
  },
  {
   "cell_type": "code",
   "execution_count": null,
   "id": "a9e084b6-87d6-49e9-8fac-dc3443f75486",
   "metadata": {},
   "outputs": [],
   "source": [
    "# Convert the data to a directed graph\n",
    "cora = nx.DiGraph()\n",
    "cora.add_edges_from([(row.source, row.target) for _, row in edgelist.iterrows()])\n",
    "nx.set_node_attributes(cora,  \"paper\", \"label\")"
   ]
  },
  {
   "cell_type": "code",
   "execution_count": null,
   "id": "4f4f513b-f267-44f4-9277-2f3dc115fc67",
   "metadata": {},
   "outputs": [],
   "source": [
    "# We can also retrieve the node labels subject\n",
    "cora_meta = os.path.expanduser(os.path.join(data_loc, \"cora.content\"))\n",
    "node_attr = pd.read_csv(cora_meta, sep='\\t', header=None)\n",
    "values = { row.tolist()[0]: row.tolist()[-1] for _, row in node_attr.iterrows()}\n",
    "nx.set_node_attributes(cora, values, 'subject')"
   ]
  },
  {
   "cell_type": "markdown",
   "id": "8d6dd6b8",
   "metadata": {},
   "source": [
    "#### Ready to describe the network \n",
    "\n",
    "We will follow the same steps as for scikit-network to describe the graph. Le networkx library offers more straighforward functions to obtain these caracteristics. "
   ]
  },
  {
   "cell_type": "code",
   "execution_count": null,
   "id": "e587f12f",
   "metadata": {},
   "outputs": [],
   "source": [
    "print(\"Number of nodes: \", cora.number_of_nodes())\n",
    "print(\"Number of edges: \", cora.number_of_edges())"
   ]
  },
  {
   "cell_type": "code",
   "execution_count": null,
   "id": "485658e4",
   "metadata": {},
   "outputs": [],
   "source": [
    "# We can also compute the degree of each node \n",
    "outdeg_cora = cora.out_degree()\n",
    "indeg_cora = cora.in_degree()\n",
    "deg_cora = cora.degree()"
   ]
  },
  {
   "cell_type": "markdown",
   "id": "16e61792",
   "metadata": {},
   "source": [
    "**To do**: check what is the type of deg_cora, then write a function to get the average degree of a graph "
   ]
  },
  {
   "cell_type": "code",
   "execution_count": null,
   "id": "b5dc89fc",
   "metadata": {},
   "outputs": [],
   "source": [
    "def average_degree(G):\n",
    "    # to do\n",
    "    \n",
    "    return "
   ]
  },
  {
   "cell_type": "code",
   "execution_count": null,
   "id": "0a8239d0",
   "metadata": {},
   "outputs": [],
   "source": [
    "# Centrality measures \n",
    "\n",
    "## eigenvectors \n",
    "c_eig = nx.eigenvector_centrality(cora)\n",
    "\n",
    "## closeness \n",
    "c_clo = nx.closeness_centrality(cora)\n",
    "\n",
    "## betweeness \n",
    "c_bet = nx.betweenness_centrality(cora)"
   ]
  },
  {
   "cell_type": "markdown",
   "id": "25dd69f3",
   "metadata": {},
   "source": [
    "**To do** For each centrality measure and degree get the top-5 most important nodes. What do you observe?"
   ]
  },
  {
   "cell_type": "code",
   "execution_count": null,
   "id": "997c5d20-e6ba-4dec-ba3e-87ed8465ba49",
   "metadata": {},
   "outputs": [],
   "source": []
  },
  {
   "cell_type": "markdown",
   "id": "10cb6156",
   "metadata": {},
   "source": [
    "## Node Embedding : DeepWalk\n",
    "\n",
    "DeepWalk is a classic baseline for node embedding, based on random walks. Basically, a random walk is a way of converting a graph into a sequence of nodes. DeepWalk consists of two main steps: \n",
    "1. For each node in the graph, generate a random path of nodes connected \n",
    "2. From the corpus of random paths generated in step 1, train a skip-gram (Word2Vec) model \n",
    "\n",
    "In this part, we start by implementing the random walk ourselves (for understanding purpose), then use the Word2Vec implementation provided in `gensim`. Then, you will have to find a scalable implementation of the random-walk online and apply it to the full cora network (=what you'll have to do in companies !). "
   ]
  },
  {
   "cell_type": "code",
   "execution_count": null,
   "id": "d2b4b0f8",
   "metadata": {},
   "outputs": [],
   "source": [
    "import random\n",
    "\n",
    "# Convert Cora to an undirected network \n",
    "cora_u = cora.to_undirected()"
   ]
  },
  {
   "cell_type": "markdown",
   "id": "916c256a",
   "metadata": {},
   "source": [
    "### Random walk \n",
    "\n",
    "Our objective is to write a function, that given a graph, a specific node and the length of the walk, generate a random walk on the graph. The ouput of the function is a list of all the nodes composing the walk. To obtain the list of direct neighbors of a given node, you can use the function `all_neighbors` from the `networkx` package."
   ]
  },
  {
   "cell_type": "code",
   "execution_count": null,
   "id": "3af36142",
   "metadata": {},
   "outputs": [],
   "source": [
    "import random \n",
    "\n",
    "walkLength = 10\n",
    "startNode = list(cora_u.nodes)[0]\n",
    "\n",
    "# Initialize the walk \n",
    "walk = [str(startNode)]\n",
    "current_node = startNode\n",
    "for _ in range(walkLength-1):\n",
    "    # List of neighbors \n",
    "    neighbors = list(nx.all_neighbors(cora_u, current_node))\n",
    "    # Select a random node as the next step in the walk \n",
    "    next_node = random.choice(neighbors)\n",
    "    # Add the node to the walk \n",
    "    walk.append(str(next_node))\n",
    "    # Update de position of the random walk \n",
    "    current_node = next_node\n",
    "\n",
    "# Display the obtained walk\n",
    "print(walk) "
   ]
  },
  {
   "cell_type": "markdown",
   "id": "ee3bd5ec",
   "metadata": {},
   "source": [
    "**To do** What do you observe if you run the above cell multiple times ? Why ?"
   ]
  },
  {
   "cell_type": "code",
   "execution_count": null,
   "id": "f9d3120a-da54-4b04-8279-23fcb154bd99",
   "metadata": {},
   "outputs": [],
   "source": []
  },
  {
   "cell_type": "markdown",
   "id": "f70bbfe4",
   "metadata": {},
   "source": [
    "#### To do \n",
    "\n",
    "1. Define a function random_walk containing the steps above \n",
    "2. Explain the code given below. Then based on this latter, define a function RandomWalker that perform a given number of random walks per node and output a corpus of randomwalks (test with 2 random walks per node)."
   ]
  },
  {
   "cell_type": "code",
   "execution_count": null,
   "id": "775df36b",
   "metadata": {},
   "outputs": [],
   "source": [
    "def random_walk(g, node, wlen=10):\n",
    "    # To do \n",
    "    return walk\n",
    "\n",
    "walks = []\n",
    "for node in cora.nodes():\n",
    "    for _ in range(30):\n",
    "        walks.append(random_walk(cora, node))\n",
    "\n",
    "pd.DataFrame(walks) "
   ]
  },
  {
   "cell_type": "markdown",
   "id": "5d3ac6e9",
   "metadata": {},
   "source": [
    "### Word2Vec \n",
    "\n"
   ]
  },
  {
   "cell_type": "code",
   "execution_count": null,
   "id": "89c5e2df",
   "metadata": {},
   "outputs": [],
   "source": [
    "# Install the library \n",
    "# !pip install gensim"
   ]
  },
  {
   "cell_type": "code",
   "execution_count": null,
   "id": "4cba2fa9",
   "metadata": {},
   "outputs": [],
   "source": [
    "from gensim.models import Word2Vec"
   ]
  },
  {
   "cell_type": "code",
   "execution_count": null,
   "id": "9d359a35",
   "metadata": {},
   "outputs": [],
   "source": [
    "# Initialise the model \n",
    "embedder = Word2Vec(\n",
    "    window = 3,\n",
    "    seed=42,\n",
    "    sg=1,\n",
    "    vector_size=32,\n",
    "    hs=0, \n",
    "    negative=10, \n",
    "    alpha=0.02, \n",
    "    min_alpha=0.0001,\n",
    ")"
   ]
  },
  {
   "cell_type": "markdown",
   "id": "92c4a14f",
   "metadata": {},
   "source": [
    "**To do** : take a look at all the hyper-parameters and check for their meaning in the documentation. \n",
    "Write in comments their role in the cell above. "
   ]
  },
  {
   "cell_type": "code",
   "execution_count": null,
   "id": "3e08b498-e885-4b9b-8385-0a57c6836a7c",
   "metadata": {},
   "outputs": [],
   "source": []
  },
  {
   "cell_type": "code",
   "execution_count": null,
   "id": "c367b903",
   "metadata": {},
   "outputs": [],
   "source": [
    "# Next, we build the vocabulary out of the nodes \n",
    "embedder.build_vocab(walks,progress_per=2)\n",
    "embedder.train(\n",
    "    walks,\n",
    "    total_examples=embedder.corpus_count, \n",
    "    epochs=4, \n",
    ")\n",
    "\n",
    "vectors = pd.DataFrame({node: embedder.wv[node] for node in embedder.wv.key_to_index.keys()}).T"
   ]
  },
  {
   "cell_type": "markdown",
   "id": "1b1304f6",
   "metadata": {},
   "source": [
    "**To do** : display the shape of embedding matrix and the 3 first rows. "
   ]
  },
  {
   "cell_type": "code",
   "execution_count": null,
   "id": "51efd8d8-8bd1-4f41-8275-cc0e23377162",
   "metadata": {},
   "outputs": [],
   "source": []
  },
  {
   "cell_type": "code",
   "execution_count": null,
   "id": "9c27b077-46cb-4103-a7ed-3866b3f149cd",
   "metadata": {},
   "outputs": [],
   "source": [
    "from sklearn.manifold import TSNE\n",
    "import matplotlib.cm as cm"
   ]
  },
  {
   "cell_type": "code",
   "execution_count": null,
   "id": "617e2297-ea18-485a-adca-aae45ef8d75c",
   "metadata": {},
   "outputs": [],
   "source": [
    "# Join embedding and label information\n",
    "t = pd.DataFrame.from_dict(values, orient='index', columns=['label'])\n",
    "t.index = t.index.astype(str)\n",
    "h = vectors.join(t, how='left')\n",
    "print(h.shape)\n",
    "h.head()"
   ]
  },
  {
   "cell_type": "code",
   "execution_count": null,
   "id": "4aa4e482-6ec7-4552-98b7-ac1b153eb038",
   "metadata": {},
   "outputs": [],
   "source": [
    "tsne_model = TSNE(perplexity=40, n_components=2, init='pca', n_iter=2500, random_state=23)\n",
    "tsne_vectors = tsne_model.fit_transform(h.iloc[:,:-1])"
   ]
  },
  {
   "cell_type": "markdown",
   "id": "7ad18128",
   "metadata": {},
   "source": [
    "**To do** : check the dimension of tsne_vectors and take a look at the documentation of TSNE to explain the hyper-parameters."
   ]
  },
  {
   "cell_type": "code",
   "execution_count": null,
   "id": "7037c4b1-a51b-428d-8549-aefef05b1c3f",
   "metadata": {},
   "outputs": [],
   "source": []
  },
  {
   "cell_type": "code",
   "execution_count": null,
   "id": "b498dbaa",
   "metadata": {},
   "outputs": [],
   "source": [
    "# Plot \n",
    "x = tsne_vectors[:,0]\n",
    "y = tsne_vectors[:,1]\n",
    "\n",
    "# Retrieve labels for visualisation \n",
    "labels = h.iloc[:,-1:]\n",
    "colors = cm.rainbow(np.linspace(0, 1, len(labels)))\n",
    "plt.figure(figsize=(16, 16)) \n",
    "plt.scatter(x, y, label=labels, c=colors)\n",
    "plt.show()"
   ]
  },
  {
   "cell_type": "markdown",
   "id": "afe4a674",
   "metadata": {},
   "source": [
    "### To do \n",
    "\n",
    "1. Code improvement: define a class DeepWalk, which given a graph, the walk length, the number of walks per nodes and the desired dimension outputs the dataframe (or any object of your choice) of the embeddings. An option must allow to choose to visualize the obtained embedding with t-sne.\n",
    "\n",
    "2. Use the obtained vectors as input data to learn a classifier (of your choice) to predict the **subject** of a paper. Note that, in our case we are only using the position of the paper in the graph and not the node features. \n",
    "\n",
    "3. Run Node2Vec on the same data and compare the obtained visualization and a classifier. You can choose the implementation/tool/librairy of your choice."
   ]
  },
  {
   "cell_type": "code",
   "execution_count": null,
   "id": "9053e710-554f-4835-b0be-2754c2c2baf4",
   "metadata": {},
   "outputs": [],
   "source": []
  }
 ],
 "metadata": {
  "kernelspec": {
   "display_name": "venv",
   "language": "python",
   "name": "python3"
  },
  "language_info": {
   "codemirror_mode": {
    "name": "ipython",
    "version": 3
   },
   "file_extension": ".py",
   "mimetype": "text/x-python",
   "name": "python",
   "nbconvert_exporter": "python",
   "pygments_lexer": "ipython3",
   "version": "3.11.5"
  }
 },
 "nbformat": 4,
 "nbformat_minor": 5
}
