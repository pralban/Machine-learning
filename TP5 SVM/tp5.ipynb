{
 "cells": [
  {
   "cell_type": "code",
   "execution_count": 42,
   "metadata": {},
   "outputs": [],
   "source": [
    "import numpy as np\n",
    "\n",
    "from svm_source import *\n",
    "from sklearn.svm import SVC\n",
    "from sklearn import datasets\n",
    "from sklearn.preprocessing import StandardScaler\n",
    "from sklearn.model_selection import GridSearchCV\n",
    "from sklearn.model_selection import train_test_split\n",
    "from sklearn.metrics import accuracy_score"
   ]
  },
  {
   "cell_type": "markdown",
   "metadata": {},
   "source": [
    "### Question 1"
   ]
  },
  {
   "cell_type": "code",
   "execution_count": 19,
   "metadata": {},
   "outputs": [],
   "source": [
    "iris = datasets.load_iris()\n",
    "X = iris.data\n",
    "y = iris.target\n",
    "\n",
    "X = X[y != 0, :2]\n",
    "y = y[y != 0]"
   ]
  },
  {
   "cell_type": "code",
   "execution_count": 44,
   "metadata": {},
   "outputs": [
    {
     "name": "stdout",
     "output_type": "stream",
     "text": [
      "The name of the target are:  ['setosa' 'versicolor' 'virginica']\n",
      "The name of the features are:  ['sepal length (cm)', 'sepal width (cm)', 'petal length (cm)', 'petal width (cm)']\n"
     ]
    }
   ],
   "source": [
    "# Splitting the dataset into the Training set and Test set\n",
    "X_train, X_test, y_train, y_test = train_test_split(X, y, test_size=0.5, random_state=1)\n",
    "\n",
    "# Load and scale the Iris dataset\n",
    "scaler = StandardScaler()\n",
    "X_train = scaler.fit_transform(X_train)\n",
    "X_test = scaler.transform(X_test)\n",
    "\n",
    "xlabel = iris.feature_names[0]\n",
    "ylabel = iris.feature_names[1]\n",
    "\n",
    "print(\"The name of the target are: \", iris.target_names)\n",
    "print(\"The name of the features are: \", iris.feature_names)\n",
    "\n",
    "# plot_original_data(np.concatenate((X_train, X_test)), np.concatenate((y_train, y_test)), xlabel, ylabel, 'Iris dataset')"
   ]
  },
  {
   "cell_type": "code",
   "execution_count": 21,
   "metadata": {},
   "outputs": [
    {
     "name": "stdout",
     "output_type": "stream",
     "text": [
      "Accuracy: 0.62\n",
      "Accuracy_test: 0.76\n"
     ]
    }
   ],
   "source": [
    "# Create a linear SVM classifier\n",
    "svm_linear = SVC(kernel='linear', C=1)\n",
    "\n",
    "# Train the model\n",
    "svm_linear.fit(X_train, y_train)\n",
    "\n",
    "# Predict the labels of the test set\n",
    "y_pred = svm_linear.predict(X_test)\n",
    "\n",
    "# Calculate the classification accuracy\n",
    "accuracy = accuracy_score(y_test, y_pred)\n",
    "accuracy_test = svm_linear.score(X_train, y_train)\n",
    "print('Accuracy:', accuracy)\n",
    "print('Accuracy_test:', accuracy_test)"
   ]
  },
  {
   "cell_type": "markdown",
   "metadata": {},
   "source": [
    "### Question 2"
   ]
  },
  {
   "cell_type": "code",
   "execution_count": 38,
   "metadata": {},
   "outputs": [
    {
     "name": "stdout",
     "output_type": "stream",
     "text": [
      "Accuracy: 0.56\n",
      "Accuracy_test: 0.78\n"
     ]
    }
   ],
   "source": [
    "# Create a linear SVM classifier\n",
    "svm_linear = SVC(kernel='poly', degree=3, C=1)\n",
    "\n",
    "# Train the model\n",
    "svm_linear.fit(X_train, y_train)\n",
    "\n",
    "# Predict the labels of the test set\n",
    "y_pred = svm_linear.predict(X_test)\n",
    "\n",
    "# Calculate the classification accuracy\n",
    "accuracy = accuracy_score(y_test, y_pred)\n",
    "accuracy_test = svm_linear.score(X_train, y_train)\n",
    "print('Accuracy:', accuracy)\n",
    "print('Accuracy_test:', accuracy_test)"
   ]
  },
  {
   "cell_type": "code",
   "execution_count": 40,
   "metadata": {},
   "outputs": [],
   "source": [
    "Cs = list(np.logspace(-3, 3, 5))\n",
    "gammas = 10.**np.arange(1,2)\n",
    "degrees = np.r_[2,3]\n",
    "parameters = {'kernel':['poly'],'C':Cs, 'gamma':gammas, 'degree':degrees}\n",
    "\n",
    "svr = SVC()\n",
    "clf_poly = GridSearchCV(svr, parameters)\n",
    "clf_poly.fit(X_train, y_train)\n",
    "\n",
    "y_pred_poly = clf_poly.predict(X_test)\n",
    "\n",
    "accuracy_poly = accuracy_score(y_test, y_pred_poly)"
   ]
  },
  {
   "cell_type": "code",
   "execution_count": 41,
   "metadata": {},
   "outputs": [
    {
     "name": "stdout",
     "output_type": "stream",
     "text": [
      "====== RESULTATS ======\n",
      "Best C: 0.001\n",
      "Best Gamma: 10.0\n",
      "Best Degree: 3\n",
      "Best Kernel: poly\n",
      "Best Accuracy: 0.78\n",
      "\n",
      "Best Model: SVC(C=0.001, gamma=10.0, kernel='poly')\n"
     ]
    }
   ],
   "source": [
    "print(\"====== RESULTATS ======\")\n",
    "print('Best C:',clf_poly.best_estimator_.C)\n",
    "print('Best Gamma:',clf_poly.best_estimator_.gamma)\n",
    "print('Best Degree:',clf_poly.best_estimator_.degree)\n",
    "print('Best Kernel:',clf_poly.best_estimator_.kernel)\n",
    "print('Best Accuracy:',clf_poly.best_score_)\n",
    "print('')\n",
    "print('Best Model:',clf_poly.best_estimator_)"
   ]
  },
  {
   "cell_type": "markdown",
   "metadata": {},
   "source": [
    "### Question 3"
   ]
  },
  {
   "cell_type": "code",
   "execution_count": null,
   "metadata": {},
   "outputs": [],
   "source": []
  },
  {
   "cell_type": "markdown",
   "metadata": {},
   "source": [
    "### Question 4"
   ]
  },
  {
   "cell_type": "code",
   "execution_count": null,
   "metadata": {},
   "outputs": [],
   "source": []
  },
  {
   "cell_type": "markdown",
   "metadata": {},
   "source": [
    "### Question 5"
   ]
  },
  {
   "cell_type": "markdown",
   "metadata": {},
   "source": []
  }
 ],
 "metadata": {
  "kernelspec": {
   "display_name": "base",
   "language": "python",
   "name": "python3"
  },
  "language_info": {
   "codemirror_mode": {
    "name": "ipython",
    "version": 3
   },
   "file_extension": ".py",
   "mimetype": "text/x-python",
   "name": "python",
   "nbconvert_exporter": "python",
   "pygments_lexer": "ipython3",
   "version": "3.11.5"
  }
 },
 "nbformat": 4,
 "nbformat_minor": 2
}
